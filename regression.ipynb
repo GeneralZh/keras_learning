{
 "cells": [
  {
   "cell_type": "code",
   "execution_count": 64,
   "metadata": {},
   "outputs": [],
   "source": [
    "import numpy as np\n",
    "np.random.seed(1024)  # for reproducibility\n",
    "from keras.models import Sequential\n",
    "from keras.layers import Dense\n",
    "import matplotlib.pyplot as plt"
   ]
  },
  {
   "cell_type": "code",
   "execution_count": 65,
   "metadata": {},
   "outputs": [],
   "source": [
    "# create some data\n",
    "x=np.linspace(-1,1,200)"
   ]
  },
  {
   "cell_type": "code",
   "execution_count": 66,
   "metadata": {},
   "outputs": [
    {
     "data": {
      "text/plain": [
       "array([-1.        , -0.98994975, -0.9798995 , -0.96984925, -0.95979899,\n",
       "       -0.94974874, -0.93969849, -0.92964824, -0.91959799, -0.90954774,\n",
       "       -0.89949749, -0.88944724, -0.87939698, -0.86934673, -0.85929648,\n",
       "       -0.84924623, -0.83919598, -0.82914573, -0.81909548, -0.80904523,\n",
       "       -0.79899497, -0.78894472, -0.77889447, -0.76884422, -0.75879397,\n",
       "       -0.74874372, -0.73869347, -0.72864322, -0.71859296, -0.70854271,\n",
       "       -0.69849246, -0.68844221, -0.67839196, -0.66834171, -0.65829146,\n",
       "       -0.64824121, -0.63819095, -0.6281407 , -0.61809045, -0.6080402 ,\n",
       "       -0.59798995, -0.5879397 , -0.57788945, -0.5678392 , -0.55778894,\n",
       "       -0.54773869, -0.53768844, -0.52763819, -0.51758794, -0.50753769,\n",
       "       -0.49748744, -0.48743719, -0.47738693, -0.46733668, -0.45728643,\n",
       "       -0.44723618, -0.43718593, -0.42713568, -0.41708543, -0.40703518,\n",
       "       -0.39698492, -0.38693467, -0.37688442, -0.36683417, -0.35678392,\n",
       "       -0.34673367, -0.33668342, -0.32663317, -0.31658291, -0.30653266,\n",
       "       -0.29648241, -0.28643216, -0.27638191, -0.26633166, -0.25628141,\n",
       "       -0.24623116, -0.2361809 , -0.22613065, -0.2160804 , -0.20603015,\n",
       "       -0.1959799 , -0.18592965, -0.1758794 , -0.16582915, -0.15577889,\n",
       "       -0.14572864, -0.13567839, -0.12562814, -0.11557789, -0.10552764,\n",
       "       -0.09547739, -0.08542714, -0.07537688, -0.06532663, -0.05527638,\n",
       "       -0.04522613, -0.03517588, -0.02512563, -0.01507538, -0.00502513,\n",
       "        0.00502513,  0.01507538,  0.02512563,  0.03517588,  0.04522613,\n",
       "        0.05527638,  0.06532663,  0.07537688,  0.08542714,  0.09547739,\n",
       "        0.10552764,  0.11557789,  0.12562814,  0.13567839,  0.14572864,\n",
       "        0.15577889,  0.16582915,  0.1758794 ,  0.18592965,  0.1959799 ,\n",
       "        0.20603015,  0.2160804 ,  0.22613065,  0.2361809 ,  0.24623116,\n",
       "        0.25628141,  0.26633166,  0.27638191,  0.28643216,  0.29648241,\n",
       "        0.30653266,  0.31658291,  0.32663317,  0.33668342,  0.34673367,\n",
       "        0.35678392,  0.36683417,  0.37688442,  0.38693467,  0.39698492,\n",
       "        0.40703518,  0.41708543,  0.42713568,  0.43718593,  0.44723618,\n",
       "        0.45728643,  0.46733668,  0.47738693,  0.48743719,  0.49748744,\n",
       "        0.50753769,  0.51758794,  0.52763819,  0.53768844,  0.54773869,\n",
       "        0.55778894,  0.5678392 ,  0.57788945,  0.5879397 ,  0.59798995,\n",
       "        0.6080402 ,  0.61809045,  0.6281407 ,  0.63819095,  0.64824121,\n",
       "        0.65829146,  0.66834171,  0.67839196,  0.68844221,  0.69849246,\n",
       "        0.70854271,  0.71859296,  0.72864322,  0.73869347,  0.74874372,\n",
       "        0.75879397,  0.76884422,  0.77889447,  0.78894472,  0.79899497,\n",
       "        0.80904523,  0.81909548,  0.82914573,  0.83919598,  0.84924623,\n",
       "        0.85929648,  0.86934673,  0.87939698,  0.88944724,  0.89949749,\n",
       "        0.90954774,  0.91959799,  0.92964824,  0.93969849,  0.94974874,\n",
       "        0.95979899,  0.96984925,  0.9798995 ,  0.98994975,  1.        ])"
      ]
     },
     "execution_count": 66,
     "metadata": {},
     "output_type": "execute_result"
    }
   ],
   "source": [
    "x"
   ]
  },
  {
   "cell_type": "code",
   "execution_count": 67,
   "metadata": {},
   "outputs": [],
   "source": [
    "np.random.shuffle(x)  # randomize the data"
   ]
  },
  {
   "cell_type": "code",
   "execution_count": 68,
   "metadata": {},
   "outputs": [
    {
     "data": {
      "text/plain": [
       "array([-0.5678392 ,  0.73869347,  0.32663317, -0.49748744, -0.9798995 ,\n",
       "        0.02512563, -0.89949749, -0.13567839, -0.31658291,  0.05527638,\n",
       "        0.28643216,  0.98994975, -0.74874372, -0.24623116, -0.63819095,\n",
       "        0.54773869, -0.41708543, -0.39698492,  0.12562814, -0.46733668,\n",
       "        0.11557789, -0.01507538, -0.25628141, -0.12562814, -0.88944724,\n",
       "       -0.04522613,  0.10552764,  0.68844221, -0.42713568, -0.44723618,\n",
       "       -0.26633166,  0.50753769, -0.47738693, -0.50753769, -0.92964824,\n",
       "        1.        , -0.27638191,  0.88944724,  0.41708543,  0.59798995,\n",
       "       -0.78894472, -0.11557789, -0.5879397 , -0.93969849, -0.20603015,\n",
       "        0.5879397 ,  0.77889447,  0.29648241, -0.55778894, -0.14572864,\n",
       "       -0.64824121,  0.1758794 ,  0.96984925, -0.2160804 , -0.18592965,\n",
       "       -0.66834171,  0.42713568,  0.80904523,  0.70854271,  0.53768844,\n",
       "       -0.70854271, -0.79899497, -1.        , -0.82914573,  0.03517588,\n",
       "        0.36683417,  0.31658291,  0.26633166,  0.5678392 ,  0.57788945,\n",
       "        0.14572864, -0.61809045, -0.08542714,  0.61809045, -0.45728643,\n",
       "        0.72864322, -0.75879397, -0.95979899,  0.83919598, -0.98994975,\n",
       "        0.39698492,  0.24623116,  0.46733668,  0.65829146,  0.51758794,\n",
       "        0.86934673,  0.2361809 ,  0.22613065, -0.00502513,  0.16582915,\n",
       "       -0.65829146, -0.06532663, -0.15577889, -0.48743719, -0.6080402 ,\n",
       "        0.07537688, -0.83919598,  0.06532663,  0.66834171,  0.93969849,\n",
       "       -0.71859296,  0.25628141, -0.85929648, -0.43718593, -0.05527638,\n",
       "       -0.35678392,  0.34673367,  0.35678392, -0.16582915, -0.33668342,\n",
       "        0.27638191,  0.91959799,  0.63819095, -0.87939698,  0.08542714,\n",
       "       -0.57788945,  0.30653266,  0.67839196, -0.1758794 , -0.54773869,\n",
       "        0.20603015,  0.81909548,  0.92964824,  0.15577889,  0.09547739,\n",
       "        0.84924623, -0.91959799,  0.2160804 , -0.77889447,  0.74874372,\n",
       "       -0.68844221,  0.94974874, -0.28643216,  0.38693467,  0.89949749,\n",
       "       -0.37688442,  0.55778894,  0.95979899,  0.79899497,  0.18592965,\n",
       "        0.1959799 ,  0.6281407 ,  0.04522613,  0.52763819, -0.07537688,\n",
       "        0.00502513,  0.47738693, -0.53768844,  0.33668342,  0.13567839,\n",
       "        0.69849246, -0.84924623, -0.1959799 ,  0.6080402 , -0.36683417,\n",
       "        0.75879397,  0.49748744, -0.96984925,  0.64824121,  0.37688442,\n",
       "        0.44723618,  0.40703518,  0.90954774, -0.09547739, -0.73869347,\n",
       "       -0.59798995,  0.85929648,  0.43718593,  0.48743719, -0.29648241,\n",
       "       -0.94974874, -0.2361809 , -0.52763819, -0.38693467, -0.69849246,\n",
       "       -0.86934673, -0.51758794, -0.80904523, -0.72864322,  0.82914573,\n",
       "       -0.6281407 ,  0.76884422, -0.30653266, -0.40703518, -0.81909548,\n",
       "       -0.34673367, -0.90954774,  0.71859296, -0.76884422, -0.03517588,\n",
       "        0.78894472, -0.32663317, -0.67839196, -0.22613065,  0.9798995 ,\n",
       "       -0.10552764,  0.01507538, -0.02512563,  0.45728643,  0.87939698])"
      ]
     },
     "execution_count": 68,
     "metadata": {},
     "output_type": "execute_result"
    }
   ],
   "source": [
    "x"
   ]
  },
  {
   "cell_type": "code",
   "execution_count": 69,
   "metadata": {},
   "outputs": [],
   "source": [
    "y=x*0.5+2+np.random.normal(0,0.05,(200,))"
   ]
  },
  {
   "cell_type": "code",
   "execution_count": 70,
   "metadata": {},
   "outputs": [
    {
     "data": {
      "text/plain": [
       "array([1.7413356 , 2.35851828, 2.13763469, 1.74354522, 1.57182804,\n",
       "       1.94274225, 1.59431969, 2.00575977, 1.85964225, 1.98183198,\n",
       "       2.20190786, 2.56038202, 1.66330694, 1.80936882, 1.75967643,\n",
       "       2.22101034, 1.6797668 , 1.80058413, 2.08834239, 1.87779848,\n",
       "       1.99377204, 1.97199346, 1.84171274, 1.97674533, 1.49843687,\n",
       "       2.02965967, 2.09794254, 2.35346287, 1.70478628, 1.73557694,\n",
       "       1.92170323, 2.32095591, 1.7904154 , 1.79760575, 1.57473572,\n",
       "       2.45411408, 1.86491875, 2.47065744, 2.3061312 , 2.31294491,\n",
       "       1.45990947, 1.92837905, 1.69408871, 1.52022552, 1.84876961,\n",
       "       2.31687939, 2.35054523, 2.12208778, 1.69923246, 1.97084962,\n",
       "       1.69855081, 1.94611868, 2.44867487, 1.859172  , 1.83516574,\n",
       "       1.67273554, 2.24685722, 2.47098148, 2.41719808, 2.26435189,\n",
       "       1.64997384, 1.64349362, 1.53334118, 1.54544173, 1.96037504,\n",
       "       2.15063765, 2.10722042, 2.08633459, 2.24299801, 2.2821183 ,\n",
       "       2.1283859 , 1.77737721, 1.92939289, 2.24624891, 1.66485999,\n",
       "       2.37570262, 1.6381801 , 1.47952587, 2.50006568, 1.45281627,\n",
       "       2.23504982, 2.09285896, 2.23688284, 2.34868798, 2.12655809,\n",
       "       2.50946605, 2.12995902, 2.0862821 , 1.89132793, 2.08627482,\n",
       "       1.65482122, 1.97597182, 2.04176468, 1.75860136, 1.71496634,\n",
       "       2.12523041, 1.64272678, 2.05385234, 2.27646343, 2.43797665,\n",
       "       1.61957267, 2.11893678, 1.58039028, 1.84441426, 1.97329402,\n",
       "       1.79154899, 2.15920091, 2.15808773, 1.89796185, 1.8880806 ,\n",
       "       2.16836284, 2.48551458, 2.36235777, 1.52828841, 1.98397257,\n",
       "       1.68263932, 2.23713436, 2.30844361, 1.95559904, 1.71620266,\n",
       "       2.12092338, 2.43829711, 2.39760244, 2.13721752, 2.14365866,\n",
       "       2.4042772 , 1.61066566, 2.03204123, 1.59034207, 2.41517112,\n",
       "       1.63895002, 2.47811226, 1.84087371, 2.14114792, 2.41377484,\n",
       "       1.82484894, 2.30922354, 2.49816636, 2.39571645, 2.07855216,\n",
       "       2.08080769, 2.30166911, 2.01040361, 2.31333836, 1.89031243,\n",
       "       2.03696099, 2.19373408, 1.77840265, 2.19994572, 2.02837064,\n",
       "       2.37886828, 1.66682488, 1.9409741 , 2.26437282, 1.80797777,\n",
       "       2.51577675, 2.26291784, 1.49695045, 2.30277652, 2.26626908,\n",
       "       2.22904333, 2.26062375, 2.4928463 , 1.99433403, 1.52979368,\n",
       "       1.73904776, 2.51424277, 2.24446519, 2.25081401, 1.85115509,\n",
       "       1.50520395, 1.82740574, 1.71662137, 1.73273942, 1.67644409,\n",
       "       1.5879359 , 1.82696402, 1.54487431, 1.61981433, 2.47831741,\n",
       "       1.64959444, 2.38185357, 1.81363778, 1.77743442, 1.58681807,\n",
       "       1.88763315, 1.66262479, 2.39000618, 1.62028277, 1.98196465,\n",
       "       2.42154073, 1.78943716, 1.57267187, 1.88230083, 2.56908523,\n",
       "       1.90737844, 1.97272888, 2.01540678, 2.25976668, 2.46068462])"
      ]
     },
     "execution_count": 70,
     "metadata": {},
     "output_type": "execute_result"
    }
   ],
   "source": [
    "y"
   ]
  },
  {
   "cell_type": "code",
   "execution_count": 71,
   "metadata": {},
   "outputs": [
    {
     "data": {
      "text/plain": [
       "<matplotlib.collections.PathCollection at 0x1217810b8>"
      ]
     },
     "execution_count": 71,
     "metadata": {},
     "output_type": "execute_result"
    },
    {
     "data": {
      "image/png": "[encoded data removed]",
      "text/plain": [
       "<matplotlib.figure.Figure at 0x1211aa9e8>"
      ]
     },
     "metadata": {},
     "output_type": "display_data"
    }
   ],
   "source": [
    "# plot data\n",
    "plt.scatter(x,y)"
   ]
  },
  {
   "cell_type": "code",
   "execution_count": 72,
   "metadata": {},
   "outputs": [],
   "source": [
    "x_train,y_train=x[:160],y[:160]  # first 160 data points"
   ]
  },
  {
   "cell_type": "code",
   "execution_count": 73,
   "metadata": {},
   "outputs": [
    {
     "data": {
      "text/plain": [
       "array([-0.5678392 ,  0.73869347,  0.32663317, -0.49748744, -0.9798995 ,\n",
       "        0.02512563, -0.89949749, -0.13567839, -0.31658291,  0.05527638,\n",
       "        0.28643216,  0.98994975, -0.74874372, -0.24623116, -0.63819095,\n",
       "        0.54773869, -0.41708543, -0.39698492,  0.12562814, -0.46733668,\n",
       "        0.11557789, -0.01507538, -0.25628141, -0.12562814, -0.88944724,\n",
       "       -0.04522613,  0.10552764,  0.68844221, -0.42713568, -0.44723618,\n",
       "       -0.26633166,  0.50753769, -0.47738693, -0.50753769, -0.92964824,\n",
       "        1.        , -0.27638191,  0.88944724,  0.41708543,  0.59798995,\n",
       "       -0.78894472, -0.11557789, -0.5879397 , -0.93969849, -0.20603015,\n",
       "        0.5879397 ,  0.77889447,  0.29648241, -0.55778894, -0.14572864,\n",
       "       -0.64824121,  0.1758794 ,  0.96984925, -0.2160804 , -0.18592965,\n",
       "       -0.66834171,  0.42713568,  0.80904523,  0.70854271,  0.53768844,\n",
       "       -0.70854271, -0.79899497, -1.        , -0.82914573,  0.03517588,\n",
       "        0.36683417,  0.31658291,  0.26633166,  0.5678392 ,  0.57788945,\n",
       "        0.14572864, -0.61809045, -0.08542714,  0.61809045, -0.45728643,\n",
       "        0.72864322, -0.75879397, -0.95979899,  0.83919598, -0.98994975,\n",
       "        0.39698492,  0.24623116,  0.46733668,  0.65829146,  0.51758794,\n",
       "        0.86934673,  0.2361809 ,  0.22613065, -0.00502513,  0.16582915,\n",
       "       -0.65829146, -0.06532663, -0.15577889, -0.48743719, -0.6080402 ,\n",
       "        0.07537688, -0.83919598,  0.06532663,  0.66834171,  0.93969849,\n",
       "       -0.71859296,  0.25628141, -0.85929648, -0.43718593, -0.05527638,\n",
       "       -0.35678392,  0.34673367,  0.35678392, -0.16582915, -0.33668342,\n",
       "        0.27638191,  0.91959799,  0.63819095, -0.87939698,  0.08542714,\n",
       "       -0.57788945,  0.30653266,  0.67839196, -0.1758794 , -0.54773869,\n",
       "        0.20603015,  0.81909548,  0.92964824,  0.15577889,  0.09547739,\n",
       "        0.84924623, -0.91959799,  0.2160804 , -0.77889447,  0.74874372,\n",
       "       -0.68844221,  0.94974874, -0.28643216,  0.38693467,  0.89949749,\n",
       "       -0.37688442,  0.55778894,  0.95979899,  0.79899497,  0.18592965,\n",
       "        0.1959799 ,  0.6281407 ,  0.04522613,  0.52763819, -0.07537688,\n",
       "        0.00502513,  0.47738693, -0.53768844,  0.33668342,  0.13567839,\n",
       "        0.69849246, -0.84924623, -0.1959799 ,  0.6080402 , -0.36683417,\n",
       "        0.75879397,  0.49748744, -0.96984925,  0.64824121,  0.37688442])"
      ]
     },
     "execution_count": 73,
     "metadata": {},
     "output_type": "execute_result"
    }
   ],
   "source": [
    "x_train"
   ]
  },
  {
   "cell_type": "code",
   "execution_count": 74,
   "metadata": {},
   "outputs": [
    {
     "data": {
      "text/plain": [
       "array([1.7413356 , 2.35851828, 2.13763469, 1.74354522, 1.57182804,\n",
       "       1.94274225, 1.59431969, 2.00575977, 1.85964225, 1.98183198,\n",
       "       2.20190786, 2.56038202, 1.66330694, 1.80936882, 1.75967643,\n",
       "       2.22101034, 1.6797668 , 1.80058413, 2.08834239, 1.87779848,\n",
       "       1.99377204, 1.97199346, 1.84171274, 1.97674533, 1.49843687,\n",
       "       2.02965967, 2.09794254, 2.35346287, 1.70478628, 1.73557694,\n",
       "       1.92170323, 2.32095591, 1.7904154 , 1.79760575, 1.57473572,\n",
       "       2.45411408, 1.86491875, 2.47065744, 2.3061312 , 2.31294491,\n",
       "       1.45990947, 1.92837905, 1.69408871, 1.52022552, 1.84876961,\n",
       "       2.31687939, 2.35054523, 2.12208778, 1.69923246, 1.97084962,\n",
       "       1.69855081, 1.94611868, 2.44867487, 1.859172  , 1.83516574,\n",
       "       1.67273554, 2.24685722, 2.47098148, 2.41719808, 2.26435189,\n",
       "       1.64997384, 1.64349362, 1.53334118, 1.54544173, 1.96037504,\n",
       "       2.15063765, 2.10722042, 2.08633459, 2.24299801, 2.2821183 ,\n",
       "       2.1283859 , 1.77737721, 1.92939289, 2.24624891, 1.66485999,\n",
       "       2.37570262, 1.6381801 , 1.47952587, 2.50006568, 1.45281627,\n",
       "       2.23504982, 2.09285896, 2.23688284, 2.34868798, 2.12655809,\n",
       "       2.50946605, 2.12995902, 2.0862821 , 1.89132793, 2.08627482,\n",
       "       1.65482122, 1.97597182, 2.04176468, 1.75860136, 1.71496634,\n",
       "       2.12523041, 1.64272678, 2.05385234, 2.27646343, 2.43797665,\n",
       "       1.61957267, 2.11893678, 1.58039028, 1.84441426, 1.97329402,\n",
       "       1.79154899, 2.15920091, 2.15808773, 1.89796185, 1.8880806 ,\n",
       "       2.16836284, 2.48551458, 2.36235777, 1.52828841, 1.98397257,\n",
       "       1.68263932, 2.23713436, 2.30844361, 1.95559904, 1.71620266,\n",
       "       2.12092338, 2.43829711, 2.39760244, 2.13721752, 2.14365866,\n",
       "       2.4042772 , 1.61066566, 2.03204123, 1.59034207, 2.41517112,\n",
       "       1.63895002, 2.47811226, 1.84087371, 2.14114792, 2.41377484,\n",
       "       1.82484894, 2.30922354, 2.49816636, 2.39571645, 2.07855216,\n",
       "       2.08080769, 2.30166911, 2.01040361, 2.31333836, 1.89031243,\n",
       "       2.03696099, 2.19373408, 1.77840265, 2.19994572, 2.02837064,\n",
       "       2.37886828, 1.66682488, 1.9409741 , 2.26437282, 1.80797777,\n",
       "       2.51577675, 2.26291784, 1.49695045, 2.30277652, 2.26626908])"
      ]
     },
     "execution_count": 74,
     "metadata": {},
     "output_type": "execute_result"
    }
   ],
   "source": [
    "y_train"
   ]
  },
  {
   "cell_type": "code",
   "execution_count": 75,
   "metadata": {},
   "outputs": [],
   "source": [
    "x_test,y_test=x[160:],y[160:]  # last 40 data points"
   ]
  },
  {
   "cell_type": "code",
   "execution_count": 76,
   "metadata": {},
   "outputs": [
    {
     "data": {
      "text/plain": [
       "array([ 0.44723618,  0.40703518,  0.90954774, -0.09547739, -0.73869347,\n",
       "       -0.59798995,  0.85929648,  0.43718593,  0.48743719, -0.29648241,\n",
       "       -0.94974874, -0.2361809 , -0.52763819, -0.38693467, -0.69849246,\n",
       "       -0.86934673, -0.51758794, -0.80904523, -0.72864322,  0.82914573,\n",
       "       -0.6281407 ,  0.76884422, -0.30653266, -0.40703518, -0.81909548,\n",
       "       -0.34673367, -0.90954774,  0.71859296, -0.76884422, -0.03517588,\n",
       "        0.78894472, -0.32663317, -0.67839196, -0.22613065,  0.9798995 ,\n",
       "       -0.10552764,  0.01507538, -0.02512563,  0.45728643,  0.87939698])"
      ]
     },
     "execution_count": 76,
     "metadata": {},
     "output_type": "execute_result"
    }
   ],
   "source": [
    "x_test"
   ]
  },
  {
   "cell_type": "code",
   "execution_count": 77,
   "metadata": {},
   "outputs": [
    {
     "data": {
      "text/plain": [
       "array([2.22904333, 2.26062375, 2.4928463 , 1.99433403, 1.52979368,\n",
       "       1.73904776, 2.51424277, 2.24446519, 2.25081401, 1.85115509,\n",
       "       1.50520395, 1.82740574, 1.71662137, 1.73273942, 1.67644409,\n",
       "       1.5879359 , 1.82696402, 1.54487431, 1.61981433, 2.47831741,\n",
       "       1.64959444, 2.38185357, 1.81363778, 1.77743442, 1.58681807,\n",
       "       1.88763315, 1.66262479, 2.39000618, 1.62028277, 1.98196465,\n",
       "       2.42154073, 1.78943716, 1.57267187, 1.88230083, 2.56908523,\n",
       "       1.90737844, 1.97272888, 2.01540678, 2.25976668, 2.46068462])"
      ]
     },
     "execution_count": 77,
     "metadata": {},
     "output_type": "execute_result"
    }
   ],
   "source": [
    "y_test"
   ]
  },
  {
   "cell_type": "code",
   "execution_count": 78,
   "metadata": {},
   "outputs": [],
   "source": [
    "# build a neural network from the 1st layer to the last layer\n",
    "model=Sequential()\n",
    "model.add(Dense(units=1,input_dim=1))"
   ]
  },
  {
   "cell_type": "code",
   "execution_count": 79,
   "metadata": {},
   "outputs": [],
   "source": [
    "# choose loss function and optimizing method\n",
    "model.compile(loss='mse',optimizer=\"sgd\")"
   ]
  },
  {
   "cell_type": "code",
   "execution_count": 80,
   "metadata": {},
   "outputs": [
    {
     "name": "stdout",
     "output_type": "stream",
     "text": [
      "Training-----------\n",
      "train cost:  5.5877795\n",
      "train cost:  0.42290106\n",
      "train cost:  0.09776405\n",
      "train cost:  0.028207283\n"
     ]
    }
   ],
   "source": [
    "# training\n",
    "print(\"Training-----------\")\n",
    "for step in range(301):\n",
    "    cost=model.train_on_batch(x_train,y_train)\n",
    "    if(step%100==0):\n",
    "        print(\"train cost: \", cost)\n"
   ]
  },
  {
   "cell_type": "code",
   "execution_count": 81,
   "metadata": {},
   "outputs": [
    {
     "name": "stdout",
     "output_type": "stream",
     "text": [
      "\n",
      "Testing-----------\n",
      "40/40 [==============================] - 0s 472us/step\n",
      "test cost:  0.03847571834921837\n",
      "Weights =  [[0.22128722]] \n",
      "biases =  [2.0075338]\n"
     ]
    }
   ],
   "source": [
    "# test\n",
    "print(\"\\nTesting-----------\")\n",
    "cost=model.evaluate(x_test,y_test,batch_size=40)\n",
    "print(\"test cost: \",cost)\n",
    "w,b=model.layers[0].get_weights()\n",
    "print('Weights = ',w,'\\nbiases = ',b)"
   ]
  },
  {
   "cell_type": "code",
   "execution_count": 82,
   "metadata": {},
   "outputs": [
    {
     "data": {
      "text/plain": [
       "[<matplotlib.lines.Line2D at 0x122085240>]"
      ]
     },
     "execution_count": 82,
     "metadata": {},
     "output_type": "execute_result"
    },
    {
     "data": {
      "image/png": "[encoded data removed]",
      "text/plain": [
       "<matplotlib.figure.Figure at 0x12126a668>"
      ]
     },
     "metadata": {},
     "output_type": "display_data"
    }
   ],
   "source": [
    "# plotting the prediction\n",
    "y_pred=model.predict(x_test)\n",
    "y_pred\n",
    "plt.scatter(x_test,y_test)\n",
    "plt.plot(x_test,y_pred)"
   ]
  },
  {
   "cell_type": "code",
   "execution_count": null,
   "metadata": {},
   "outputs": [],
   "source": []
  }
 ],
 "metadata": {
  "kernelspec": {
   "display_name": "Python 3",
   "language": "python",
   "name": "python3"
  },
  "language_info": {
   "codemirror_mode": {
    "name": "ipython",
    "version": 3
   },
   "file_extension": ".py",
   "mimetype": "text/x-python",
   "name": "python",
   "nbconvert_exporter": "python",
   "pygments_lexer": "ipython3",
   "version": "3.6.3"
  }
 },
 "nbformat": 4,
 "nbformat_minor": 2
}
