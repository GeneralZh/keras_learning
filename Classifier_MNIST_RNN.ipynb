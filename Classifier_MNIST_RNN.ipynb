{
 "cells": [
  {
   "cell_type": "code",
   "execution_count": 1,
   "metadata": {},
   "outputs": [
    {
     "name": "stderr",
     "output_type": "stream",
     "text": [
      "Using TensorFlow backend.\n",
      "/Library/Frameworks/Python.framework/Versions/3.6/lib/python3.6/site-packages/ipykernel_launcher.py:38: UserWarning: Update your `SimpleRNN` call to the Keras 2 API: `SimpleRNN(batch_input_shape=(None, 28,..., unroll=True, units=50)`\n"
     ]
    },
    {
     "name": "stdout",
     "output_type": "stream",
     "text": [
      "test cost:  2.4057374000549316 test accuracy:  0.03909999877214432\n",
      "test cost:  0.5988647937774658 test accuracy:  0.822700023651123\n",
      "test cost:  0.44775956869125366 test accuracy:  0.8664000034332275\n",
      "test cost:  0.33441275358200073 test accuracy:  0.9020000100135803\n",
      "test cost:  0.3026190400123596 test accuracy:  0.9110000133514404\n",
      "test cost:  0.28877803683280945 test accuracy:  0.9154000282287598\n",
      "test cost:  0.28312766551971436 test accuracy:  0.916700005531311\n",
      "test cost:  0.23678217828273773 test accuracy:  0.9315000176429749\n",
      "test cost:  0.23969535529613495 test accuracy:  0.932200014591217\n"
     ]
    }
   ],
   "source": [
    "import numpy as np\n",
    "np.random.seed(1337)  # for reproducibility\n",
    "\n",
    "from keras.datasets import mnist\n",
    "from keras.utils import np_utils\n",
    "from keras.models import Sequential\n",
    "from keras.layers import SimpleRNN, Activation, Dense\n",
    "from keras.optimizers import Adam\n",
    "\n",
    "TIME_STEPS = 28     # same as the height of the image\n",
    "INPUT_SIZE = 28     # same as the width of the image\n",
    "BATCH_SIZE = 50\n",
    "BATCH_INDEX = 0\n",
    "OUTPUT_SIZE = 10\n",
    "CELL_SIZE = 50\n",
    "LR = 0.001\n",
    "\n",
    "\n",
    "# download the mnist to the path '~/.keras/datasets/' if it is the first time to be called\n",
    "# X shape (60,000 28x28), y shape (10,000, )\n",
    "(X_train, y_train), (X_test, y_test) = mnist.load_data()\n",
    "\n",
    "# data pre-processing\n",
    "X_train = X_train.reshape(-1, 28, 28) / 255.      # normalize\n",
    "X_test = X_test.reshape(-1, 28, 28) / 255.        # normalize\n",
    "y_train = np_utils.to_categorical(y_train, num_classes=10)\n",
    "y_test = np_utils.to_categorical(y_test, num_classes=10)\n",
    "\n",
    "# build RNN model\n",
    "model = Sequential()\n",
    "\n",
    "# RNN cell\n",
    "model.add(SimpleRNN(\n",
    "    # for batch_input_shape, if using tensorflow as the backend, we have to put None for the batch_size.\n",
    "    # Otherwise, model.evaluate() will get error.\n",
    "    batch_input_shape=(None, TIME_STEPS, INPUT_SIZE),       # Or: input_dim=INPUT_SIZE, input_length=TIME_STEPS,\n",
    "    output_dim=CELL_SIZE,\n",
    "    unroll=True,\n",
    "))\n",
    "\n",
    "# output layer\n",
    "model.add(Dense(OUTPUT_SIZE))\n",
    "model.add(Activation('softmax'))\n",
    "\n",
    "# optimizer\n",
    "adam = Adam(LR)\n",
    "model.compile(optimizer=adam,\n",
    "              loss='categorical_crossentropy',\n",
    "              metrics=['accuracy'])\n",
    "\n",
    "# training\n",
    "for step in range(4001):\n",
    "    # data shape = (batch_num, steps, inputs/outputs)\n",
    "    X_batch = X_train[BATCH_INDEX: BATCH_INDEX+BATCH_SIZE, :, :]\n",
    "    Y_batch = y_train[BATCH_INDEX: BATCH_INDEX+BATCH_SIZE, :]\n",
    "    cost = model.train_on_batch(X_batch, Y_batch)\n",
    "    BATCH_INDEX += BATCH_SIZE\n",
    "    BATCH_INDEX = 0 if BATCH_INDEX >= X_train.shape[0] else BATCH_INDEX\n",
    "\n",
    "    if step % 500 == 0:\n",
    "        cost, accuracy = model.evaluate(X_test, y_test, batch_size=y_test.shape[0], verbose=False)\n",
    "        print('test cost: ', cost, 'test accuracy: ', accuracy)"
   ]
  },
  {
   "cell_type": "code",
   "execution_count": null,
   "metadata": {},
   "outputs": [],
   "source": []
  }
 ],
 "metadata": {
  "kernelspec": {
   "display_name": "Python 3",
   "language": "python",
   "name": "python3"
  },
  "language_info": {
   "codemirror_mode": {
    "name": "ipython",
    "version": 3
   },
   "file_extension": ".py",
   "mimetype": "text/x-python",
   "name": "python",
   "nbconvert_exporter": "python",
   "pygments_lexer": "ipython3",
   "version": "3.6.3"
  }
 },
 "nbformat": 4,
 "nbformat_minor": 2
}
